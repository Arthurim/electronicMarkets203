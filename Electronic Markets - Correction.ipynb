{
 "cells": [
  {
   "cell_type": "code",
   "execution_count": 37,
   "metadata": {},
   "outputs": [],
   "source": [
    "import datetime\n",
    "import matplotlib.pyplot as plt\n",
    "import numpy as np\n",
    "import pandas as pd"
   ]
  },
  {
   "cell_type": "markdown",
   "metadata": {},
   "source": [
    "Exercise 1:\n",
    "\n",
    " - How would you represent an orderbook in python ?\n",
    " - Create a dummy orderbook and plot it"
   ]
  },
  {
   "cell_type": "code",
   "execution_count": 110,
   "metadata": {},
   "outputs": [],
   "source": [
    "ob = {\n",
    "        'sym': 'XBTUSD',\n",
    "        'market': 'KRAKEN',\n",
    "        'marketTimestamp': '',\n",
    "        'bids': {32190.30000: 0.04579906,\n",
    "                 32189.90000: 0.28206982,\n",
    "                 32189.50000: 0.10000000,\n",
    "                 32187.80000: 0.15492926,\n",
    "                 32187.40000: 0.19089654,\n",
    "                 32187.30000: 0.54200000,\n",
    "                 32186.70000: 0.39760000,\n",
    "                 32186.60000: 0.10000000,\n",
    "                 32184.80000: 0.07650675,\n",
    "                 32184.70000: 0.42340000},\n",
    "         \"asks\": {32199.70000: 0.80291486,\n",
    "                 32200.00000: 0.10000000,\n",
    "                 32201.20000: 0.31061608,\n",
    "                 32201.40000: 0.77653633,\n",
    "                 32202.20000: 1.55334945,\n",
    "                 32204.50000: 0.29346981,\n",
    "                 32204.90000: 0.03105114,\n",
    "                 32205.60000: 1.98440000,\n",
    "                 32206.80000: 0.07650649,\n",
    "                 32207.10000: 0.23251983}\n",
    "    }"
   ]
  },
  {
   "cell_type": "code",
   "execution_count": 118,
   "metadata": {},
   "outputs": [
    {
     "data": {
      "text/plain": [
       "[<matplotlib.lines.Line2D at 0x21e63d38668>]"
      ]
     },
     "execution_count": 118,
     "metadata": {},
     "output_type": "execute_result"
    },
    {
     "data": {
      "image/png": "[encoded data removed]",
      "text/plain": [
       "<Figure size 432x288 with 1 Axes>"
      ]
     },
     "metadata": {
      "needs_background": "light"
     },
     "output_type": "display_data"
    }
   ],
   "source": [
    "def getListsOfSizesAndPrices(side):\n",
    "    side = dict(sorted(side.items()))\n",
    "    p = []\n",
    "    s = []\n",
    "    for k,v in side.items():\n",
    "        p.append(float(k))\n",
    "        s.append(float(v))\n",
    "    return p, np.cumsum(s)\n",
    "    \n",
    "p_a,s_a = getListsOfSizesAndPrices(ob[\"asks\"])\n",
    "p_b,s_b = getListsOfSizesAndPrices(ob[\"bids\"])\n",
    "p = p_b+p_a\n",
    "s=sorted(s_b,reverse=True)+ sorted(s_a,reverse=False)\n",
    "plt.step(p,s)"
   ]
  },
  {
   "cell_type": "markdown",
   "metadata": {},
   "source": [
    "Exercise 2:\n",
    "- Given $n$ orderbooks, write a function to aggregate them in a single one\n",
    "- Take the $m$ levels VWAP of the aggregated orderbook"
   ]
  },
  {
   "cell_type": "code",
   "execution_count": 1,
   "metadata": {},
   "outputs": [],
   "source": [
    "ob1 = {\n",
    "        'sym': 'XBTUSD',\n",
    "        'market': 'KRAKEN',\n",
    "        'marketTimestamp': '',\n",
    "        'bids': {32190.30000: 0.04579906,\n",
    "                 32189.90000: 0.28206982,\n",
    "                 32189.50000: 0.10000000,\n",
    "                 32187.80000: 0.15492926,\n",
    "                 32187.40000: 0.19089654,\n",
    "                 32187.30000: 0.54200000,\n",
    "                 32186.70000: 0.39760000,\n",
    "                 32186.60000: 0.10000000,\n",
    "                 32184.80000: 0.07650675,\n",
    "                 32184.70000: 0.42340000},\n",
    "         \"asks\": {32199.70000: 0.80291486,\n",
    "                 32200.00000: 0.10000000,\n",
    "                 32201.20000: 0.31061608,\n",
    "                 32201.40000: 0.77653633,\n",
    "                 32202.20000: 1.55334945,\n",
    "                 32204.50000: 0.29346981,\n",
    "                 32204.90000: 0.03105114,\n",
    "                 32205.60000: 1.98440000,\n",
    "                 32206.80000: 0.07650649,\n",
    "                 32207.10000: 0.23251983}\n",
    "    }\n"
   ]
  },
  {
   "cell_type": "code",
   "execution_count": 19,
   "metadata": {},
   "outputs": [],
   "source": [
    "def modify_side(ob_side,fp=0.1,fs=0.1):\n",
    "    new_side = {}\n",
    "    for k,v in ob_side.items():\n",
    "        new_side[k*(1+fp)] = v*(1+fs)\n",
    "    return new_side\n",
    "\n",
    "def create_new_ob(ob,fp=0.001,fs=0.001):\n",
    "    return {\n",
    "        'sym': 'XBTUSD',\n",
    "        'market': 'KRAKEN',\n",
    "        'marketTimestamp': '',\n",
    "        'bids': modify_side(ob[\"bids\"],fp,fs),\n",
    "        'asks': modify_side(ob[\"asks\"],fp,fs)\n",
    "        }\n",
    "obs = [ob1,create_new_ob(ob1,fp=0.001,fs=0.001)]"
   ]
  },
  {
   "cell_type": "code",
   "execution_count": 16,
   "metadata": {},
   "outputs": [
    {
     "data": {
      "text/plain": [
       "{32199.7: 0.80291486,\n",
       " 32200.0: 0.1,\n",
       " 32201.2: 0.31061608,\n",
       " 32201.4: 0.77653633,\n",
       " 32202.2: 1.55334945,\n",
       " 32204.5: 0.29346981,\n",
       " 32204.9: 0.03105114,\n",
       " 32205.6: 1.9844,\n",
       " 32206.8: 0.07650649,\n",
       " 32207.1: 0.23251983,\n",
       " 35419.670000000006: 0.883206346,\n",
       " 35420.0: 0.11000000000000001,\n",
       " 35421.32000000001: 0.34167768800000003,\n",
       " 35421.54: 0.854189963,\n",
       " 35422.420000000006: 1.7086843950000001,\n",
       " 35424.950000000004: 0.32281679100000005,\n",
       " 35425.39000000001: 0.034156254000000004,\n",
       " 35426.16: 2.18284,\n",
       " 35427.48: 0.084157139,\n",
       " 35427.81: 0.255771813}"
      ]
     },
     "execution_count": 16,
     "metadata": {},
     "output_type": "execute_result"
    }
   ],
   "source": [
    "sides = [\"bids\",\"asks\"]\n",
    "all_bids = {}\n",
    "all_asks = {}\n",
    "for ob in obs:\n",
    "    all_bids.update(ob[\"bids\"])\n",
    "    all_asks.update(ob[\"asks\"])\n",
    "all_bids = dict(sorted(all_bids.items()))\n",
    "all_asks = dict(sorted(all_asks.items()))"
   ]
  },
  {
   "cell_type": "code",
   "execution_count": 18,
   "metadata": {},
   "outputs": [],
   "source": []
  },
  {
   "cell_type": "code",
   "execution_count": null,
   "metadata": {},
   "outputs": [],
   "source": []
  }
 ],
 "metadata": {
  "kernelspec": {
   "display_name": "Python 3",
   "language": "python",
   "name": "python3"
  },
  "language_info": {
   "codemirror_mode": {
    "name": "ipython",
    "version": 3
   },
   "file_extension": ".py",
   "mimetype": "text/x-python",
   "name": "python",
   "nbconvert_exporter": "python",
   "pygments_lexer": "ipython3",
   "version": "3.7.0"
  }
 },
 "nbformat": 4,
 "nbformat_minor": 2
}
