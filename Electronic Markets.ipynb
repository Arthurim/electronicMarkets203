{
 "cells": [
  {
   "cell_type": "markdown",
   "metadata": {},
   "source": [
    "# Electronic Markets"
   ]
  },
  {
   "cell_type": "markdown",
   "metadata": {},
   "source": [
    "#### Goals of the course:\n",
    "- Giving you a good idea of the different types of business that deal with electronic markets\n",
    "- Having you practicing stuff"
   ]
  },
  {
   "cell_type": "markdown",
   "metadata": {},
   "source": [
    "#### Table of contents\n",
    "##### 1. Different types of business\n",
    "##### 2. Market Making\n",
    "##### 3. Investing"
   ]
  },
  {
   "cell_type": "markdown",
   "metadata": {},
   "source": [
    "We can distinguish 3 types of business that uses algo trading:\n",
    "\n",
    "1. Execution Algos\n",
    "    - The provider of algos aggregate different markets in a single one\n",
    "    - The client is sending orders with precise requirements (eg: TWAP, not using venue X)\n",
    "    - The provider splits and executes the client’s order as optimally as possible\n",
    "    - The client is paying a fee to the provider\n",
    "\n",
    "2. Market Making\n",
    "    - The market maker quotes a bid-ask spread and gets positions from clients\n",
    "    - Then the market maker is trying to get rid of his position as fast as possible and to the best price possible\n",
    "    - The market maker makes money from the bid ask spread\n",
    "\n",
    "3. Investing\n",
    "    - The investor tries to find patterns in the market and has buy/sell strategy based on them\n",
    "    - The investor makes money from market movements\n",
    "    - Key difference between Market Maker and Investor: the market maker is not passing “risk increasing” orders\n",
    "\n",
    "-> The implications of what you need to do are different\n",
    "\n"
   ]
  },
  {
   "cell_type": "markdown",
   "metadata": {},
   "source": [
    "## 1. Market Making - The problem to solve"
   ]
  },
  {
   "cell_type": "markdown",
   "metadata": {},
   "source": [
    "- Market making in the orderbook vs SDPs vs RFQs\n",
    "- You quote a bid-ask $[p^b;p^a]$ spread for an asset\n",
    "- Someone comes to you and want to sell you \\$100k of that asset, at which price do you buy ?\n",
    "    - What if he wants to sell you \\$1mio of that asset?\n",
    "- How do you come up with this price in the first place ?\n",
    "- Now you have a position, its valuation moves with market prices, what do you do?\n",
    "- what if you observe more volatility in the market ?\n",
    "- RFQ vs OB"
   ]
  },
  {
   "cell_type": "markdown",
   "metadata": {},
   "source": [
    "Different market microstructure implies different ways of market making.\n",
    "- Single Dealer Platform (SDP)\n",
    "- Order books (OB)\n",
    "- RFQs"
   ]
  },
  {
   "cell_type": "markdown",
   "metadata": {},
   "source": [
    "### 1.1 Pricing\n",
    "\n",
    "- How do you come up with a bid-ask spread to quote ?\n",
    "- Non arbable prices\n",
    "- Different types of clients act differently\n",
    "    - Corporates vs Hedge Funds\n",
    "    - Manual traders vs algorithms\n",
    "- Market conditions may change\n",
    "- Volatility events\n",
    "- Liquidity events\n",
    "\n",
    "\n",
    "\n"
   ]
  },
  {
   "cell_type": "markdown",
   "metadata": {},
   "source": [
    "#### Fair Pricing\n",
    "\n",
    "How do you come up with a bid-ask spread to quote ?\n",
    "\n",
    "- FX: you have a lot of different markets and you can observe prices there -> market data as a source of your price, you can aggregate it and then look at a VWAP of some sort.\n",
    "- Rates and Credit: you don't have much data, so ?"
   ]
  },
  {
   "cell_type": "markdown",
   "metadata": {},
   "source": [
    "Exercise 1:\n",
    "\n",
    " - How would you represent an orderbook in python ?\n",
    " - Create a dummy orderbook and plot it"
   ]
  },
  {
   "cell_type": "markdown",
   "metadata": {},
   "source": [
    "Exercise 2:\n",
    "- Given $n$ orderbooks, write a function to aggregate them in a single one\n",
    "- Take the $m$ levels VWAP of the aggregated orderbook"
   ]
  },
  {
   "cell_type": "markdown",
   "metadata": {},
   "source": [
    "#### Client Pricing"
   ]
  },
  {
   "cell_type": "markdown",
   "metadata": {},
   "source": [
    "From a neutral view of the market to client pricing:\n",
    " - Client tiers\n",
    " - Widening\n",
    " - Skewing"
   ]
  },
  {
   "cell_type": "markdown",
   "metadata": {},
   "source": [
    "Exercise 3:\n",
    "\n",
    "- Given a dataframe of prices that you observe on external venues, build a volatility indicator to widen your prices"
   ]
  },
  {
   "cell_type": "code",
   "execution_count": 4,
   "metadata": {},
   "outputs": [
    {
     "data": {
      "text/html": [
       "<div>\n",
       "<style scoped>\n",
       "    .dataframe tbody tr th:only-of-type {\n",
       "        vertical-align: middle;\n",
       "    }\n",
       "\n",
       "    .dataframe tbody tr th {\n",
       "        vertical-align: top;\n",
       "    }\n",
       "\n",
       "    .dataframe thead th {\n",
       "        text-align: right;\n",
       "    }\n",
       "</style>\n",
       "<table border=\"1\" class=\"dataframe\">\n",
       "  <thead>\n",
       "    <tr style=\"text-align: right;\">\n",
       "      <th></th>\n",
       "      <th>timestamp</th>\n",
       "      <th>bids</th>\n",
       "      <th>asks</th>\n",
       "    </tr>\n",
       "  </thead>\n",
       "  <tbody>\n",
       "  </tbody>\n",
       "</table>\n",
       "</div>"
      ],
      "text/plain": [
       "Empty DataFrame\n",
       "Columns: [timestamp, bids, asks]\n",
       "Index: []"
      ]
     },
     "execution_count": 4,
     "metadata": {},
     "output_type": "execute_result"
    }
   ],
   "source": [
    "import pandas as pd\n",
    "pd.DataFrame(columns = [\"timestamp\",\"bids\",\"asks\"])"
   ]
  },
  {
   "cell_type": "markdown",
   "metadata": {},
   "source": [
    "Exercise 4:\n",
    "\n",
    "- How does your risk position impact your prices ?"
   ]
  },
  {
   "cell_type": "markdown",
   "metadata": {},
   "source": [
    "### 1.2. Hedging\n",
    "\n",
    "- Your best case scenario: a client comes and hits you on the other side so you get rid of your position and you earnt the spread\n",
    "    - “cheap”\n",
    "    - but you can wait a very long time and markets may have moved a lot\n",
    "- -> The tradeoff between immediacy and a good price\n",
    "- Other options:\n",
    "    - External markets:\n",
    "        - Market orders\n",
    "            - Immediately get rid of risk\n",
    "            - Market impact + information leakage\n",
    "        - Limit orders (passive)\n",
    "            - Less immediate\n",
    "            - Less market impact but still leaking information\n",
    "    - Pricing:\n",
    "        - Skewing your price in the right direction to have more chance of getting rid of your position and less chance to increase your position\n"
   ]
  },
  {
   "cell_type": "markdown",
   "metadata": {},
   "source": [
    "Exercise: Finding the hedge ratios\n",
    "\n",
    "Hedging a corporate bond with different govies:\n",
    "- given a bond with data X and govies with data Y and their hourly yields moves\n",
    "- build a small model to find in which proportions you should hedge your bond"
   ]
  },
  {
   "cell_type": "markdown",
   "metadata": {},
   "source": [
    "### 1.3. Central Risk Book"
   ]
  },
  {
   "cell_type": "code",
   "execution_count": null,
   "metadata": {},
   "outputs": [],
   "source": []
  },
  {
   "cell_type": "markdown",
   "metadata": {},
   "source": [
    "## 2. Investing"
   ]
  },
  {
   "cell_type": "markdown",
   "metadata": {},
   "source": [
    "The key difference with MM: Doing risk increasing trades, taking views on the market"
   ]
  },
  {
   "cell_type": "markdown",
   "metadata": {},
   "source": [
    "### 2.1. Different types of strategies"
   ]
  },
  {
   "cell_type": "markdown",
   "metadata": {},
   "source": [
    "#### 2.1.1. Market neutral strategies"
   ]
  },
  {
   "cell_type": "markdown",
   "metadata": {},
   "source": [
    "#### 2.1.2. Stat Arb"
   ]
  },
  {
   "cell_type": "markdown",
   "metadata": {},
   "source": [
    "#### 2.1.3. Frequencies"
   ]
  },
  {
   "cell_type": "markdown",
   "metadata": {},
   "source": [
    "### 2.2. Finding signals in a sea of noise"
   ]
  },
  {
   "cell_type": "markdown",
   "metadata": {},
   "source": [
    "#### 2.2.1 Orderbook signals"
   ]
  },
  {
   "cell_type": "markdown",
   "metadata": {},
   "source": [
    "OB imbalance"
   ]
  },
  {
   "cell_type": "markdown",
   "metadata": {},
   "source": [
    "#### 2.2.2. Cross asset signals"
   ]
  },
  {
   "cell_type": "markdown",
   "metadata": {},
   "source": [
    "US assets vs FX"
   ]
  },
  {
   "cell_type": "markdown",
   "metadata": {},
   "source": [
    "#### 2.2.3. Alternative data"
   ]
  },
  {
   "cell_type": "markdown",
   "metadata": {},
   "source": [
    "Twitter and news analysis"
   ]
  },
  {
   "cell_type": "code",
   "execution_count": null,
   "metadata": {},
   "outputs": [],
   "source": []
  }
 ],
 "metadata": {
  "kernelspec": {
   "display_name": "Python 3",
   "language": "python",
   "name": "python3"
  },
  "language_info": {
   "codemirror_mode": {
    "name": "ipython",
    "version": 3
   },
   "file_extension": ".py",
   "mimetype": "text/x-python",
   "name": "python",
   "nbconvert_exporter": "python",
   "pygments_lexer": "ipython3",
   "version": "3.7.0"
  }
 },
 "nbformat": 4,
 "nbformat_minor": 2
}
